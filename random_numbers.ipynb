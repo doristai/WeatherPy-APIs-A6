{
 "cells": [
  {
   "cell_type": "code",
   "execution_count": 13,
   "metadata": {},
   "outputs": [],
   "source": [
    "# Import the random module.\n",
    "import random\n",
    "import numpy as np\n",
    "import timeit"
   ]
  },
  {
   "cell_type": "markdown",
   "metadata": {},
   "source": [
    "## Random Functions \n",
    "\n",
    "1. ```randint()``` : short for random integer\n",
    "\n",
    "\n",
    "2. ```random()``` : get a single floating-point decimal number between 0 and 1.0\n",
    "\n",
    "    - will not generate a whole integer \n",
    "\n",
    "\n",
    "3. ```randrange(lowerlim, upperlim, step = x)``` : \n",
    "\n",
    "    - optional to add step\n",
    "    - set it equal to an integer which will generate increments of a given integer value from the lower to the upper limit\n",
    "    - exmaple: ```random.randrange(-90, 90, step=3)```\n",
    "        - outpout is a number between -90 and 90\n",
    "   - will not generate a whole integer \n",
    "    \n",
    "    \n",
    "4. ```uniform()``` : generate a floating-point decimal number between two given numbers inside the parenthese\n",
    "\n",
    "    - will not generate a whole integer "
   ]
  },
  {
   "cell_type": "code",
   "execution_count": 6,
   "metadata": {},
   "outputs": [],
   "source": [
    "x = 1 \n",
    "latitudes = []\n",
    "while x < 11:\n",
    "    random_lat = random.randint(-90, 89) + random. random()\n",
    "    latitudes.append(random_lat)\n",
    "    x += 1"
   ]
  },
  {
   "cell_type": "code",
   "execution_count": 7,
   "metadata": {},
   "outputs": [
    {
     "data": {
      "text/plain": [
       "[35.974263750621134,\n",
       " 75.50198812367073,\n",
       " -2.66680777224642,\n",
       " 43.06856340223454,\n",
       " 24.379300453736743,\n",
       " -40.52840931747135,\n",
       " 58.29996918155646,\n",
       " -43.87172527567067,\n",
       " -4.697832714526728,\n",
       " -75.27137380532305]"
      ]
     },
     "execution_count": 7,
     "metadata": {},
     "output_type": "execute_result"
    }
   ],
   "source": [
    "latitudes"
   ]
  },
  {
   "cell_type": "markdown",
   "metadata": {},
   "source": [
    "## Uniform() with NumPy\n",
    "\n",
    "1. ```np.random.uniform(low=-90, high=90)```\n",
    "\n",
    "    - generate more than one floating-point decimal number between -90 and 90\n",
    "\n",
    "    - add ```size``` parameter when we use the NumPy and set that equal to any whole number \n",
    "\n",
    "\n",
    "2. ```%timeit```\n",
    "\n",
    "    - to test how long a piece of code or function takes to run"
   ]
  },
  {
   "cell_type": "code",
   "execution_count": 12,
   "metadata": {},
   "outputs": [
    {
     "data": {
      "text/plain": [
       "array([ 59.67469988, -28.55409228,  69.6635273 ,  81.35044026,\n",
       "        21.98123195,  41.37652231, -68.7570218 , -84.6473918 ,\n",
       "        52.60876046, -38.76807695])"
      ]
     },
     "execution_count": 12,
     "metadata": {},
     "output_type": "execute_result"
    }
   ],
   "source": [
    "np.random.uniform(-90.000, 90.000, size=10)"
   ]
  },
  {
   "cell_type": "code",
   "execution_count": 14,
   "metadata": {},
   "outputs": [
    {
     "name": "stdout",
     "output_type": "stream",
     "text": [
      "2.45 µs ± 28.4 ns per loop (mean ± std. dev. of 7 runs, 100000 loops each)\n"
     ]
    }
   ],
   "source": [
    "%timeit np.random.uniform(-90.000, 90.000, size=15)"
   ]
  },
  {
   "cell_type": "code",
   "execution_count": 15,
   "metadata": {},
   "outputs": [
    {
     "name": "stdout",
     "output_type": "stream",
     "text": [
      "1.15 ms ± 3.03 µs per loop (mean ± std. dev. of 7 runs, 1000 loops each)\n"
     ]
    }
   ],
   "source": [
    "def latitudes(size):\n",
    "    latitudes = []\n",
    "    x = 0 \n",
    "    while x < (size):\n",
    "        random_lat = random.randint(-90, 90) + random.random()\n",
    "        latitudes.append(random_lat)\n",
    "        x += 1\n",
    "    return latitudes \n",
    "\n",
    "# Call the function with 1500 \n",
    "%timeit latitudes(1500)"
   ]
  },
  {
   "cell_type": "code",
   "execution_count": null,
   "metadata": {},
   "outputs": [],
   "source": []
  }
 ],
 "metadata": {
  "kernelspec": {
   "display_name": "Python 3",
   "language": "python",
   "name": "python3"
  },
  "language_info": {
   "codemirror_mode": {
    "name": "ipython",
    "version": 3
   },
   "file_extension": ".py",
   "mimetype": "text/x-python",
   "name": "python",
   "nbconvert_exporter": "python",
   "pygments_lexer": "ipython3",
   "version": "3.8.5"
  }
 },
 "nbformat": 4,
 "nbformat_minor": 4
}
